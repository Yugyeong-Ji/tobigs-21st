{
  "cells": [
    {
      "cell_type": "markdown",
      "metadata": {
        "id": "yclCebBQFn2I"
      },
      "source": [
        "# CNNbasic Assignment#1\n",
        "\n",
        "\n",
        "마크다운과 코드 속 `???` 를 채워주시면 됩니다!-!\n",
        "\n",
        "\n",
        "# AlexNet\n",
        "\n",
        "모델 구조 사진과 논문 사이트입니다.\n",
        "\n",
        "- paper: http://www.cs.toronto.edu/~fritz/absps/imagenet.pdf\n",
        "\n",
        "- dataset: http://image-net.org/challenges/LSVRC/2012/index#task\n",
        "\n",
        "- Model architecture\n",
        "\n",
        "![image.architecture1](attachment:image.png)\n",
        "\n",
        "![model_architecture2](https://t1.daumcdn.net/cfile/tistory/99FEB93C5C80B5192E)\n",
        "\n",
        "The second convolutional layer takes as input the (response-normalized\n",
        "and pooled) output of the first convolutional layer and filters it with 256 kernels of size 5 × 5 × 48.\n",
        "The third, fourth, and fifth convolutional layers are connected to one another without any intervening\n",
        "pooling or normalization layers. The third convolutional layer has 384 kernels of size 3 × 3 ×\n",
        "256 connected to the (normalized, pooled) outputs of the second convolutional layer. The fourth\n",
        "convolutional layer has 384 kernels of size 3 × 3 × 192 , and the fifth convolutional layer has 256\n",
        "kernels of size 3 × 3 × 192. The fully-connected layers have 4096 neurons each.\n",
        "\n",
        "\n",
        "### Naive Version\n",
        "CONV_1 - POOL_1 - CONV_2 - POOL_2 - CONV_3 - CONV_4 - CONV_5 - POOL_3 - FC1 - FC2 - FC3 (->SOFTMAX)\n",
        "\n",
        "### detailed\n",
        "CONV_1(ReLU) - POOL_1 - CONV_2(ReLU) - POOL_2 - CONV_3(ReLU) - CONV_4(ReLU) - CONV_5(ReLU) - POOL_3 -(Flatten) FC1(ReLU) - FC2(ReLU) - FC3(->SOFTMAX)"
      ]
    },
    {
      "cell_type": "markdown",
      "metadata": {
        "id": "exDZxL9QFn2L"
      },
      "source": [
        "## Layer 1 is a Convolution Layer_1\n",
        "\n",
        "- **Input Image size**     `(227,227,3)`\n",
        "\n",
        "- **Number of filters**     `96`\n",
        "\n",
        "- **Filter size**     `(11,11)`\n",
        "\n",
        "- **Stride**     `4`\n",
        "\n",
        "- **Layer 1 Output**     `(55,55,96)`"
      ]
    },
    {
      "cell_type": "code",
      "execution_count": 1,
      "metadata": {
        "id": "IriYieISEgjl",
        "outputId": "b6caf3ac-6121-44eb-84f2-08c5c6c9e0fb",
        "colab": {
          "base_uri": "https://localhost:8080/"
        }
      },
      "outputs": [
        {
          "output_type": "execute_result",
          "data": {
            "text/plain": [
              "34944"
            ]
          },
          "metadata": {},
          "execution_count": 1
        }
      ],
      "source": [
        "## TODO ##\n",
        "######################################################\n",
        "#  Calculate the number of parameters in this layer  #\n",
        "######################################################\n",
        "\n",
        "Conv_1 = (11*11*3+1)*96\n",
        "#  1을 더하는 것은 바이어스에 대한 계산을 포함하기 위함\n",
        "Conv_1\n",
        "# '''Don't forget to include Bias'''"
      ]
    },
    {
      "cell_type": "markdown",
      "metadata": {
        "id": "XvlIbO-uFn2V"
      },
      "source": [
        "## Layer 2 is a Max Pooling_1 Followed by Convolution_1\n",
        "\n",
        "- **Input**     `(55,55,96)`\n",
        "\n",
        "- **Max pooling**     `0`  \n",
        "\n",
        "- **Pooling size** (overlapping)      `(3,3)`\n",
        "\n",
        "    * overlapping 중첩되어서 지나감\n",
        "\n",
        "- **Stride**     `2`\n",
        "\n",
        "- **Layer 2 Output**     `(27,27,96)`\n",
        "    \n",
        "    * 차원은 변함 없음"
      ]
    },
    {
      "cell_type": "code",
      "execution_count": 2,
      "metadata": {
        "id": "B0Wey99BEgjm",
        "outputId": "e1643713-840b-4283-9303-dfc08566ace2",
        "colab": {
          "base_uri": "https://localhost:8080/"
        }
      },
      "outputs": [
        {
          "output_type": "execute_result",
          "data": {
            "text/plain": [
              "0"
            ]
          },
          "metadata": {},
          "execution_count": 2
        }
      ],
      "source": [
        "## TODO\n",
        "\n",
        "######################################################\n",
        "#  Calculate the number of parameters in this layer  #\n",
        "######################################################\n",
        "\n",
        "Max_pool_1 = 0\n",
        "Max_pool_1"
      ]
    },
    {
      "cell_type": "markdown",
      "metadata": {
        "id": "r70OGeViFn2Z"
      },
      "source": [
        "## Layer 3 is a Convolution Layer_2\n",
        "\n",
        "- **Input**     `(27,27,96)`\n",
        "\n",
        "- **Number of filters**     `256`\n",
        "\n",
        "- **Filter size**     `5*5*96`\n",
        "\n",
        "- **Stride**     `1`\n",
        "\n",
        "- **padding**     `2`\n",
        "\n",
        "- **Layer 3 Output**     `(27,27,256)`"
      ]
    },
    {
      "cell_type": "code",
      "execution_count": 3,
      "metadata": {
        "id": "OfDE5iyZEgjn",
        "outputId": "1310dade-a419-4e71-d8f3-9b7be9e0ef85",
        "colab": {
          "base_uri": "https://localhost:8080/"
        }
      },
      "outputs": [
        {
          "output_type": "execute_result",
          "data": {
            "text/plain": [
              "614656"
            ]
          },
          "metadata": {},
          "execution_count": 3
        }
      ],
      "source": [
        "## TODO\n",
        "\n",
        "######################################################\n",
        "#  Calculate the number of parameters in this layer  #\n",
        "######################################################\n",
        "\n",
        "Conv_2 = ((5*5*96)+1)*256\n",
        "Conv_2"
      ]
    },
    {
      "cell_type": "markdown",
      "metadata": {
        "id": "DQZhwY4eFn2e"
      },
      "source": [
        "## Layer 4 is a Max Pooling_2 Followed by Convolution_2\n",
        "\n",
        "- **Input**     `(27,27,256)`\n",
        "\n",
        "- **Max pooling**     `3*3`  \n",
        "\n",
        "- **Pooling size**(overlapping)     `3`\n",
        "\n",
        "- **Stride**     `2`\n",
        "\n",
        "- **Layer 4 Output**     `(13,13,256)`"
      ]
    },
    {
      "cell_type": "code",
      "execution_count": 4,
      "metadata": {
        "id": "onkXBdXGEgjn",
        "outputId": "94e424f0-c064-49b4-dc35-5f0b61dc097a",
        "colab": {
          "base_uri": "https://localhost:8080/"
        }
      },
      "outputs": [
        {
          "output_type": "execute_result",
          "data": {
            "text/plain": [
              "0"
            ]
          },
          "metadata": {},
          "execution_count": 4
        }
      ],
      "source": [
        "## TODO\n",
        "\n",
        "######################################################\n",
        "#  Calculate the number of parameters in this layer  #\n",
        "######################################################\n",
        "\n",
        "Max_pool_2 = 0\n",
        "Max_pool_2"
      ]
    },
    {
      "cell_type": "markdown",
      "metadata": {
        "id": "xPm4PRFAFn2i"
      },
      "source": [
        "## Layer 5 is a Convolution Layer_3\n",
        "\n",
        "- **Input**     `(13,13,256)`\n",
        "\n",
        "- **Number of filters**     `384`\n",
        "\n",
        "- **Filter size**     `(3,3,256)`\n",
        "\n",
        "- **Stride**     `1`\n",
        "\n",
        "- **padding**     `1`\n",
        "\n",
        "- **Layer 5 Output**     `(13,13,384)`\n"
      ]
    },
    {
      "cell_type": "code",
      "execution_count": 5,
      "metadata": {
        "id": "NRCbBNH7Egjn",
        "outputId": "c0e7f5e2-e6b9-4304-d16d-9af97c145385",
        "colab": {
          "base_uri": "https://localhost:8080/"
        }
      },
      "outputs": [
        {
          "output_type": "execute_result",
          "data": {
            "text/plain": [
              "885120"
            ]
          },
          "metadata": {},
          "execution_count": 5
        }
      ],
      "source": [
        "## TODO\n",
        "\n",
        "######################################################\n",
        "#  Calculate the number of parameters in this layer  #\n",
        "######################################################\n",
        "\n",
        "Conv_3 = ((3*3*256)+1)*384\n",
        "Conv_3"
      ]
    },
    {
      "cell_type": "markdown",
      "metadata": {
        "id": "Yv57b2vxFn2o"
      },
      "source": [
        "## Layer 6 is  a Convolution Layer_4\n",
        "\n",
        "- **Input**     `(13,13,384)`\n",
        "\n",
        "- **Number of filters**     `384`\n",
        "\n",
        "- **Filter size**     `(3,3,192)`\n",
        "\n",
        "- **Stride**     `1`\n",
        "\n",
        "- **padding**     `1`\n",
        "\n",
        "- **Layer 6 Output**     `(13,13,384)`"
      ]
    },
    {
      "cell_type": "code",
      "execution_count": 6,
      "metadata": {
        "id": "Q3E7JRM5Egjo",
        "outputId": "234b676c-ce59-47ce-fc63-d4c23ecc5a11",
        "colab": {
          "base_uri": "https://localhost:8080/"
        }
      },
      "outputs": [
        {
          "output_type": "execute_result",
          "data": {
            "text/plain": [
              "663936"
            ]
          },
          "metadata": {},
          "execution_count": 6
        }
      ],
      "source": [
        "## TODO\n",
        "\n",
        "######################################################\n",
        "#  Calculate the number of parameters in this layer  #\n",
        "# (필터 크기 +1 )*필터 개수\n",
        "######################################################\n",
        "\n",
        "Conv_4 = ((3*3*192)+1)*384\n",
        "Conv_4"
      ]
    },
    {
      "cell_type": "markdown",
      "metadata": {
        "id": "NiQL84J_Fn2s"
      },
      "source": [
        "## Layer 7 is a Convolution Layer_5\n",
        "\n",
        "- **Input**     `(13,13,384)`\n",
        "\n",
        "- **Number of filters**     `256`\n",
        "\n",
        "- **Filter size**     `(3,3,192)`\n",
        "\n",
        "- **Stride**     `1`\n",
        "\n",
        "- **padding**     `1`\n",
        "\n",
        "- **Layer 7 Output**     `(13,13,256)`"
      ]
    },
    {
      "cell_type": "code",
      "execution_count": 7,
      "metadata": {
        "id": "8Bg1RjJWEgjo",
        "outputId": "d5b9d8f5-045a-4f80-dd9c-fd31d647a1c8",
        "colab": {
          "base_uri": "https://localhost:8080/"
        }
      },
      "outputs": [
        {
          "output_type": "execute_result",
          "data": {
            "text/plain": [
              "442624"
            ]
          },
          "metadata": {},
          "execution_count": 7
        }
      ],
      "source": [
        "## TODO\n",
        "\n",
        "######################################################\n",
        "#  Calculate the number of parameters in this layer  #\n",
        "######################################################\n",
        "\n",
        "Conv_5 = ((3*3*192 + 1))*256\n",
        "Conv_5"
      ]
    },
    {
      "cell_type": "markdown",
      "metadata": {
        "id": "WSTe-0IxFn2w"
      },
      "source": [
        "## Layer 8 is a Max Pooling_3 Followed by Convolution_5\n",
        "\n",
        "- **Input**     `(13,13,256)`\n",
        "\n",
        "- **Max pooling**     `0`  \n",
        "\n",
        "- **Pooling size**(overlapping)     `(3,3)`\n",
        "\n",
        "- **Stride**     `2`\n",
        "\n",
        "- **Layer 8 Output**     `(6,6,256)`"
      ]
    },
    {
      "cell_type": "code",
      "execution_count": 8,
      "metadata": {
        "id": "9kR5sfVlEgjo",
        "outputId": "d5772f40-5169-4d59-a808-6606367e3865",
        "colab": {
          "base_uri": "https://localhost:8080/"
        }
      },
      "outputs": [
        {
          "output_type": "execute_result",
          "data": {
            "text/plain": [
              "0"
            ]
          },
          "metadata": {},
          "execution_count": 8
        }
      ],
      "source": [
        "## TODO\n",
        "\n",
        "######################################################\n",
        "#  Calculate the number of parameters in this layer  #\n",
        "######################################################\n",
        "\n",
        "Max_pool_3 = 0\n",
        "Max_pool_3"
      ]
    },
    {
      "cell_type": "markdown",
      "metadata": {
        "id": "798N3vBYFn21"
      },
      "source": [
        "## Layer 9 is a Fully_Connected layer_1\n",
        "\n",
        "- **input**     `(6,6,256)`\n",
        "\n",
        "- **flatten**     `6*6*256`\n",
        "\n",
        "- **output size**     `4096`\n",
        "\n",
        "- **N** Number of input data      `6*6*256`"
      ]
    },
    {
      "cell_type": "code",
      "execution_count": 9,
      "metadata": {
        "id": "-g3OzcwWEgjo",
        "outputId": "961bb790-5f64-46ef-d622-86a9c5c5c354",
        "colab": {
          "base_uri": "https://localhost:8080/"
        }
      },
      "outputs": [
        {
          "output_type": "execute_result",
          "data": {
            "text/plain": [
              "37748736"
            ]
          },
          "metadata": {},
          "execution_count": 9
        }
      ],
      "source": [
        "## TODO\n",
        "\n",
        "######################################################\n",
        "#  Calculate the number of parameters in this layer  #\n",
        "######################################################\n",
        "\n",
        "FC1 = (6*6*256)*4096\n",
        "FC1"
      ]
    },
    {
      "cell_type": "markdown",
      "metadata": {
        "id": "kIfvpHPTFn25"
      },
      "source": [
        "## Layer 10 is a Fully_Connected layer_2\n",
        "\n",
        "- **input**     `4096`\n",
        "\n",
        "- **output size**     `4096`\n",
        "\n",
        "- **N** Number of input data =      `4096`"
      ]
    },
    {
      "cell_type": "code",
      "execution_count": 10,
      "metadata": {
        "id": "gUQczRMtEgjp",
        "outputId": "b8379b68-2e0e-4408-d5df-8bee26c8633d",
        "colab": {
          "base_uri": "https://localhost:8080/"
        }
      },
      "outputs": [
        {
          "output_type": "execute_result",
          "data": {
            "text/plain": [
              "16781312"
            ]
          },
          "metadata": {},
          "execution_count": 10
        }
      ],
      "source": [
        "## TODO\n",
        "\n",
        "######################################################\n",
        "#  Calculate the number of parameters in this layer  #\n",
        "######################################################\n",
        "\n",
        "FC2 = (4096+1)*4096\n",
        "FC2"
      ]
    },
    {
      "cell_type": "markdown",
      "metadata": {
        "id": "N8TaZQTBFn29"
      },
      "source": [
        "## Layer 11 is a Fully_Connected layer_3\n",
        "\n",
        "- **input**     `4096`\n",
        "\n",
        "- **output size**     `1000`\n",
        "\n",
        "- **N** Number of input data =      `4096`\n",
        "\n",
        "- **Num_classes** Number of labels =      `1000`"
      ]
    },
    {
      "cell_type": "code",
      "execution_count": 11,
      "metadata": {
        "id": "ZVXEB6EvEgjp",
        "outputId": "2f954abd-45e3-4c0b-b03b-a7e0f8882faa",
        "colab": {
          "base_uri": "https://localhost:8080/"
        }
      },
      "outputs": [
        {
          "output_type": "execute_result",
          "data": {
            "text/plain": [
              "4097000"
            ]
          },
          "metadata": {},
          "execution_count": 11
        }
      ],
      "source": [
        "## TODO\n",
        "\n",
        "######################################################\n",
        "#  Calculate the number of parameters in this layer  #\n",
        "######################################################\n",
        "\n",
        "FC3 = (4096 + 1)*1000\n",
        "FC3"
      ]
    }
  ],
  "metadata": {
    "colab": {
      "provenance": []
    },
    "kernelspec": {
      "display_name": "Python 3 (ipykernel)",
      "language": "python",
      "name": "python3"
    },
    "language_info": {
      "codemirror_mode": {
        "name": "ipython",
        "version": 3
      },
      "file_extension": ".py",
      "mimetype": "text/x-python",
      "name": "python",
      "nbconvert_exporter": "python",
      "pygments_lexer": "ipython3",
      "version": "3.10.6"
    },
    "toc": {
      "base_numbering": 1,
      "nav_menu": {},
      "number_sections": true,
      "sideBar": true,
      "skip_h1_title": false,
      "title_cell": "Table of Contents",
      "title_sidebar": "Contents",
      "toc_cell": false,
      "toc_position": {},
      "toc_section_display": true,
      "toc_window_display": false
    }
  },
  "nbformat": 4,
  "nbformat_minor": 0
}